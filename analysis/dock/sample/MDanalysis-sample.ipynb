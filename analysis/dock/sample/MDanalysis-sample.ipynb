{
 "cells": [
  {
   "cell_type": "markdown",
   "metadata": {},
   "source": [
    "## 参考 \n",
    "https://qiita.com/TANATY/items/d60a335ba1ad813bf9b5"
   ]
  },
  {
   "cell_type": "markdown",
   "metadata": {},
   "source": [
    "### Basic"
   ]
  },
  {
   "cell_type": "code",
   "execution_count": 3,
   "metadata": {},
   "outputs": [],
   "source": [
    "# ライブラリのインポート\n",
    "\n",
    "import MDAnalysis\n",
    "\n",
    "# テストデータの読み込み（PSF:トポロジー、DCD：トラジェクトリ）\n",
    "from MDAnalysis.tests.datafiles import PSF, DCD"
   ]
  },
  {
   "cell_type": "code",
   "execution_count": 4,
   "metadata": {},
   "outputs": [
    {
     "name": "stdout",
     "output_type": "stream",
     "text": [
      "<Universe with 3341 atoms>\n"
     ]
    },
    {
     "name": "stderr",
     "output_type": "stream",
     "text": [
      "/home/rintaro/anaconda3/lib/python3.9/site-packages/MDAnalysis/coordinates/DCD.py:165: DeprecationWarning: DCDReader currently makes independent timesteps by copying self.ts while other readers update self.ts inplace. This behavior will be changed in 3.0 to be the same as other readers. Read more at https://github.com/MDAnalysis/mdanalysis/issues/3889 to learn if this change in behavior might affect you.\n",
      "  warnings.warn(\"DCDReader currently makes independent timesteps\"\n"
     ]
    }
   ],
   "source": [
    "# universeの作成(ファイルの読み込み)\n",
    "\n",
    "u = MDAnalysis.Universe(PSF, DCD)\n",
    "print (u)\n"
   ]
  },
  {
   "cell_type": "code",
   "execution_count": 5,
   "metadata": {},
   "outputs": [
    {
     "name": "stdout",
     "output_type": "stream",
     "text": [
      "<AtomGroup [<Atom 1: N of type 56 of resname MET, resid 1 and segid 4AKE>, <Atom 2: HT1 of type 2 of resname MET, resid 1 and segid 4AKE>, <Atom 3: HT2 of type 2 of resname MET, resid 1 and segid 4AKE>, ..., <Atom 3339: C of type 32 of resname GLY, resid 214 and segid 4AKE>, <Atom 3340: OT1 of type 72 of resname GLY, resid 214 and segid 4AKE>, <Atom 3341: OT2 of type 72 of resname GLY, resid 214 and segid 4AKE>]>\n",
      "[<Atom 1: N of type 56 of resname MET, resid 1 and segid 4AKE>, <Atom 2: HT1 of type 2 of resname MET, resid 1 and segid 4AKE>, <Atom 3: HT2 of type 2 of resname MET, resid 1 and segid 4AKE>, <Atom 4: HT3 of type 2 of resname MET, resid 1 and segid 4AKE>, <Atom 5: CA of type 22 of resname MET, resid 1 and segid 4AKE>]\n"
     ]
    }
   ],
   "source": [
    "# ATOM　obujectの作成\n",
    "print (u.atoms)\n",
    "##output\n",
    "print(list (u.atoms[:5]))"
   ]
  },
  {
   "cell_type": "code",
   "execution_count": 6,
   "metadata": {},
   "outputs": [
    {
     "name": "stdout",
     "output_type": "stream",
     "text": [
      "<ResidueGroup [<Residue LEU, 6>, <Residue GLY, 7>, <Residue ALA, 8>]>\n",
      "[<Residue MET, 1>, <Residue ARG, 2>, <Residue ILE, 3>, <Residue ILE, 4>, <Residue LEU, 5>, <Residue LEU, 6>, <Residue GLY, 7>, <Residue ALA, 8>, <Residue PRO, 9>, <Residue GLY, 10>, <Residue ALA, 11>, <Residue GLY, 12>, <Residue LYS, 13>, <Residue GLY, 14>, <Residue THR, 15>, <Residue GLN, 16>, <Residue ALA, 17>, <Residue GLN, 18>, <Residue PHE, 19>, <Residue ILE, 20>, <Residue MET, 21>, <Residue GLU, 22>, <Residue LYS, 23>, <Residue TYR, 24>, <Residue GLY, 25>, <Residue ILE, 26>, <Residue PRO, 27>, <Residue GLN, 28>, <Residue ILE, 29>, <Residue SER, 30>, <Residue THR, 31>, <Residue GLY, 32>, <Residue ASP, 33>, <Residue MET, 34>, <Residue LEU, 35>, <Residue ARG, 36>, <Residue ALA, 37>, <Residue ALA, 38>, <Residue VAL, 39>, <Residue LYS, 40>, <Residue SER, 41>, <Residue GLY, 42>, <Residue SER, 43>, <Residue GLU, 44>, <Residue LEU, 45>, <Residue GLY, 46>, <Residue LYS, 47>, <Residue GLN, 48>, <Residue ALA, 49>, <Residue LYS, 50>, <Residue ASP, 51>, <Residue ILE, 52>, <Residue MET, 53>, <Residue ASP, 54>, <Residue ALA, 55>, <Residue GLY, 56>, <Residue LYS, 57>, <Residue LEU, 58>, <Residue VAL, 59>, <Residue THR, 60>, <Residue ASP, 61>, <Residue GLU, 62>, <Residue LEU, 63>, <Residue VAL, 64>, <Residue ILE, 65>, <Residue ALA, 66>, <Residue LEU, 67>, <Residue VAL, 68>, <Residue LYS, 69>, <Residue GLU, 70>, <Residue ARG, 71>, <Residue ILE, 72>, <Residue ALA, 73>, <Residue GLN, 74>, <Residue GLU, 75>, <Residue ASP, 76>, <Residue CYS, 77>, <Residue ARG, 78>, <Residue ASN, 79>, <Residue GLY, 80>, <Residue PHE, 81>, <Residue LEU, 82>, <Residue LEU, 83>, <Residue ASP, 84>, <Residue GLY, 85>, <Residue PHE, 86>, <Residue PRO, 87>, <Residue ARG, 88>, <Residue THR, 89>, <Residue ILE, 90>, <Residue PRO, 91>, <Residue GLN, 92>, <Residue ALA, 93>, <Residue ASP, 94>, <Residue ALA, 95>, <Residue MET, 96>, <Residue LYS, 97>, <Residue GLU, 98>, <Residue ALA, 99>, <Residue GLY, 100>, <Residue ILE, 101>, <Residue ASN, 102>, <Residue VAL, 103>, <Residue ASP, 104>, <Residue TYR, 105>, <Residue VAL, 106>, <Residue LEU, 107>, <Residue GLU, 108>, <Residue PHE, 109>, <Residue ASP, 110>, <Residue VAL, 111>, <Residue PRO, 112>, <Residue ASP, 113>, <Residue GLU, 114>, <Residue LEU, 115>, <Residue ILE, 116>, <Residue VAL, 117>, <Residue ASP, 118>, <Residue ARG, 119>, <Residue ILE, 120>, <Residue VAL, 121>, <Residue GLY, 122>, <Residue ARG, 123>, <Residue ARG, 124>, <Residue VAL, 125>, <Residue HSD, 126>, <Residue ALA, 127>, <Residue PRO, 128>, <Residue SER, 129>, <Residue GLY, 130>, <Residue ARG, 131>, <Residue VAL, 132>, <Residue TYR, 133>, <Residue HSD, 134>, <Residue VAL, 135>, <Residue LYS, 136>, <Residue PHE, 137>, <Residue ASN, 138>, <Residue PRO, 139>, <Residue PRO, 140>, <Residue LYS, 141>, <Residue VAL, 142>, <Residue GLU, 143>, <Residue GLY, 144>, <Residue LYS, 145>, <Residue ASP, 146>, <Residue ASP, 147>, <Residue VAL, 148>, <Residue THR, 149>, <Residue GLY, 150>, <Residue GLU, 151>, <Residue GLU, 152>, <Residue LEU, 153>, <Residue THR, 154>, <Residue THR, 155>, <Residue ARG, 156>, <Residue LYS, 157>, <Residue ASP, 158>, <Residue ASP, 159>, <Residue GLN, 160>, <Residue GLU, 161>, <Residue GLU, 162>, <Residue THR, 163>, <Residue VAL, 164>, <Residue ARG, 165>, <Residue LYS, 166>, <Residue ARG, 167>, <Residue LEU, 168>, <Residue VAL, 169>, <Residue GLU, 170>, <Residue TYR, 171>, <Residue HSD, 172>, <Residue GLN, 173>, <Residue MET, 174>, <Residue THR, 175>, <Residue ALA, 176>, <Residue PRO, 177>, <Residue LEU, 178>, <Residue ILE, 179>, <Residue GLY, 180>, <Residue TYR, 181>, <Residue TYR, 182>, <Residue SER, 183>, <Residue LYS, 184>, <Residue GLU, 185>, <Residue ALA, 186>, <Residue GLU, 187>, <Residue ALA, 188>, <Residue GLY, 189>, <Residue ASN, 190>, <Residue THR, 191>, <Residue LYS, 192>, <Residue TYR, 193>, <Residue ALA, 194>, <Residue LYS, 195>, <Residue VAL, 196>, <Residue ASP, 197>, <Residue GLY, 198>, <Residue THR, 199>, <Residue LYS, 200>, <Residue PRO, 201>, <Residue VAL, 202>, <Residue ALA, 203>, <Residue GLU, 204>, <Residue VAL, 205>, <Residue ARG, 206>, <Residue ALA, 207>, <Residue ASP, 208>, <Residue LEU, 209>, <Residue GLU, 210>, <Residue LYS, 211>, <Residue ILE, 212>, <Residue LEU, 213>, <Residue GLY, 214>]\n"
     ]
    }
   ],
   "source": [
    "# 残基の抽出\n",
    "print(u.atoms[100:130].residues)\n",
    "print(list(u.atoms.residues))"
   ]
  },
  {
   "cell_type": "code",
   "execution_count": 7,
   "metadata": {},
   "outputs": [
    {
     "name": "stdout",
     "output_type": "stream",
     "text": [
      "<SegmentGroup [<Segment 4AKE>]>\n",
      "[<Segment 4AKE>]\n"
     ]
    }
   ],
   "source": [
    "# タンパク質、モノマーの抽出\n",
    "print(u.atoms.segments)\n",
    "\n",
    "print(list(u.atoms.segments))"
   ]
  },
  {
   "cell_type": "markdown",
   "metadata": {},
   "source": [
    "## Important methods and attributes of AtomGroup\n",
    "\n",
    "上の`positions`のように、出力できる重要な例として。\n",
    "\n",
    "- center_of_mass( ) :　系の重心\n",
    "- centor_of_geometry( ) : 重心\n",
    "- total_mass( ) : 質量\n",
    "- total_chargre( ) : 電荷\n",
    "- radius_of_gyration( ) : 慣性半径\n",
    "- principal_axis( ) : 使ったこと無いのでわかりません\n",
    "\n",
    "などがある。"
   ]
  },
  {
   "cell_type": "markdown",
   "metadata": {},
   "source": [
    "## Trajectory analysis\n",
    "参考  \n",
    "https://magattaca.hatenablog.com/entry/2022/04/28/200955"
   ]
  },
  {
   "cell_type": "code",
   "execution_count": 8,
   "metadata": {},
   "outputs": [
    {
     "name": "stdout",
     "output_type": "stream",
     "text": [
      "98\n"
     ]
    }
   ],
   "source": [
    "# トラジェクトリのフレーム数\n",
    "print(len(u.trajectory))"
   ]
  },
  {
   "cell_type": "code",
   "execution_count": 9,
   "metadata": {},
   "outputs": [
    {
     "data": {
      "text/plain": [
       "<MDAnalysis.analysis.align.AlignTraj at 0x7f3eaada07c0>"
      ]
     },
     "execution_count": 9,
     "metadata": {},
     "output_type": "execute_result"
    }
   ],
   "source": [
    "# タンパク質のアラインメント\n",
    "from MDAnalysis.analysis import align\n",
    "\n",
    "# トラジェクトリの位置を最初のフレームにリセットする\n",
    "u.trajectory[0]\n",
    "\n",
    "# align.AlignTrajでアラインメントを取る\n",
    "alignment = align.AlignTraj( mobile = u, reference = u, select=\"protein\", in_memory=True)\n",
    "alignment.run()\n"
   ]
  },
  {
   "cell_type": "code",
   "execution_count": null,
   "metadata": {},
   "outputs": [],
   "source": [
    "# フレーム二点間のRMSDを計算する\n",
    "from MDAnalysis.analysis import rms\n",
    "\n",
    "# 最初のフレームにリセット\n",
    "u.trajectory[0]\n",
    "\n",
    "# 最初のタンパク質の位置\n",
    "protein_first = u.select_atoms(\"protein\").positions\n",
    "\n",
    "# 最後のフレームに移動\n",
    "u.trajectory[-1]\n",
    "\n",
    "# 最後のタンパク質の位置\n",
    "protein_last = u.select_atoms(\"protein\").positions\n",
    "\n",
    "# rmsdを評価\n",
    "print(rms.rmsd(protein_first, protein_last))"
   ]
  }
 ],
 "metadata": {
  "kernelspec": {
   "display_name": "base",
   "language": "python",
   "name": "python3"
  },
  "language_info": {
   "codemirror_mode": {
    "name": "ipython",
    "version": 3
   },
   "file_extension": ".py",
   "mimetype": "text/x-python",
   "name": "python",
   "nbconvert_exporter": "python",
   "pygments_lexer": "ipython3",
   "version": "3.9.16"
  }
 },
 "nbformat": 4,
 "nbformat_minor": 2
}
